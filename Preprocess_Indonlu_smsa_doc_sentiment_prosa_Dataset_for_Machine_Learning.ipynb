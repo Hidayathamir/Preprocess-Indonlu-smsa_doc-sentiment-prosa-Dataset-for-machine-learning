{
  "nbformat": 4,
  "nbformat_minor": 0,
  "metadata": {
    "colab": {
      "name": "Preprocess Indonlu smsa_doc-sentiment-prosa Dataset for Machine Learning.ipynb",
      "provenance": [],
      "collapsed_sections": [],
      "authorship_tag": "ABX9TyP6/vlMdxCa1xUhrQu0eV9H",
      "include_colab_link": true
    },
    "kernelspec": {
      "name": "python3",
      "display_name": "Python 3"
    }
  },
  "cells": [
    {
      "cell_type": "markdown",
      "metadata": {
        "id": "view-in-github",
        "colab_type": "text"
      },
      "source": [
        "<a href=\"https://colab.research.google.com/github/Hidayathamir/Preprocess-Indonlu-smsa_doc-sentiment-prosa-Dataset-for-machine-learning/blob/main/Preprocess_Indonlu_smsa_doc_sentiment_prosa_Dataset_for_Machine_Learning.ipynb\" target=\"_parent\"><img src=\"https://colab.research.google.com/assets/colab-badge.svg\" alt=\"Open In Colab\"/></a>"
      ]
    },
    {
      "cell_type": "markdown",
      "metadata": {
        "id": "kJKY-V0lw4xs"
      },
      "source": [
        "Source : https://github.com/indobenchmark/indonlu/tree/master/dataset/smsa_doc-sentiment-prosa"
      ]
    },
    {
      "cell_type": "code",
      "metadata": {
        "id": "WnMJJ4fTPXyG"
      },
      "source": [
        "import warnings\r\n",
        "warnings.filterwarnings('ignore')"
      ],
      "execution_count": 1,
      "outputs": []
    },
    {
      "cell_type": "markdown",
      "metadata": {
        "id": "s41GKM6bQVBp"
      },
      "source": [
        "Required library for stem in Indonesian language"
      ]
    },
    {
      "cell_type": "code",
      "metadata": {
        "colab": {
          "base_uri": "https://localhost:8080/"
        },
        "id": "KOM64HboCYhq",
        "outputId": "37d7880f-5d0f-494c-9c5b-c9f4ef23909a"
      },
      "source": [
        "!pip install sastrawi"
      ],
      "execution_count": 2,
      "outputs": [
        {
          "output_type": "stream",
          "text": [
            "Collecting sastrawi\n",
            "\u001b[?25l  Downloading https://files.pythonhosted.org/packages/6f/4b/bab676953da3103003730b8fcdfadbdd20f333d4add10af949dd5c51e6ed/Sastrawi-1.0.1-py2.py3-none-any.whl (209kB)\n",
            "\u001b[K     |████████████████████████████████| 215kB 4.4MB/s \n",
            "\u001b[?25hInstalling collected packages: sastrawi\n",
            "Successfully installed sastrawi-1.0.1\n"
          ],
          "name": "stdout"
        }
      ]
    },
    {
      "cell_type": "code",
      "metadata": {
        "id": "OJlAA8BTAp4f"
      },
      "source": [
        "import pandas as pd\r\n",
        "import string\r\n",
        "from tqdm import tqdm\r\n",
        "from collections import Counter\r\n",
        "from Sastrawi.Stemmer.StemmerFactory import StemmerFactory\r\n",
        "from Sastrawi.StopWordRemover.StopWordRemoverFactory import StopWordRemoverFactory"
      ],
      "execution_count": 3,
      "outputs": []
    },
    {
      "cell_type": "markdown",
      "metadata": {
        "id": "AET6OKA7JF7s"
      },
      "source": [
        "# Load dataset\r\n",
        "Load train and valid dataframe"
      ]
    },
    {
      "cell_type": "code",
      "metadata": {
        "colab": {
          "base_uri": "https://localhost:8080/",
          "height": 391
        },
        "id": "_zrlZlwrAunD",
        "outputId": "32197bff-1b96-405a-f19e-d8c0b77d4d3c"
      },
      "source": [
        "df_train = pd.read_csv('https://raw.githubusercontent.com/indobenchmark/indonlu/master/dataset/smsa_doc-sentiment-prosa/train_preprocess.tsv', sep='\\t', names=['text', 'sentiment'])\r\n",
        "df_train"
      ],
      "execution_count": 4,
      "outputs": [
        {
          "output_type": "execute_result",
          "data": {
            "text/html": [
              "<div>\n",
              "<style scoped>\n",
              "    .dataframe tbody tr th:only-of-type {\n",
              "        vertical-align: middle;\n",
              "    }\n",
              "\n",
              "    .dataframe tbody tr th {\n",
              "        vertical-align: top;\n",
              "    }\n",
              "\n",
              "    .dataframe thead th {\n",
              "        text-align: right;\n",
              "    }\n",
              "</style>\n",
              "<table border=\"1\" class=\"dataframe\">\n",
              "  <thead>\n",
              "    <tr style=\"text-align: right;\">\n",
              "      <th></th>\n",
              "      <th>text</th>\n",
              "      <th>sentiment</th>\n",
              "    </tr>\n",
              "  </thead>\n",
              "  <tbody>\n",
              "    <tr>\n",
              "      <th>0</th>\n",
              "      <td>warung ini dimiliki oleh pengusaha pabrik tahu...</td>\n",
              "      <td>positive</td>\n",
              "    </tr>\n",
              "    <tr>\n",
              "      <th>1</th>\n",
              "      <td>mohon ulama lurus dan k212 mmbri hujjah partai...</td>\n",
              "      <td>neutral</td>\n",
              "    </tr>\n",
              "    <tr>\n",
              "      <th>2</th>\n",
              "      <td>lokasi strategis di jalan sumatera bandung . t...</td>\n",
              "      <td>positive</td>\n",
              "    </tr>\n",
              "    <tr>\n",
              "      <th>3</th>\n",
              "      <td>betapa bahagia nya diri ini saat unboxing pake...</td>\n",
              "      <td>positive</td>\n",
              "    </tr>\n",
              "    <tr>\n",
              "      <th>4</th>\n",
              "      <td>duh . jadi mahasiswa jangan sombong dong . kas...</td>\n",
              "      <td>negative</td>\n",
              "    </tr>\n",
              "    <tr>\n",
              "      <th>...</th>\n",
              "      <td>...</td>\n",
              "      <td>...</td>\n",
              "    </tr>\n",
              "    <tr>\n",
              "      <th>10995</th>\n",
              "      <td>tidak kecewa</td>\n",
              "      <td>positive</td>\n",
              "    </tr>\n",
              "    <tr>\n",
              "      <th>10996</th>\n",
              "      <td>enak rasa masakan nya apalagi kepiting yang me...</td>\n",
              "      <td>positive</td>\n",
              "    </tr>\n",
              "    <tr>\n",
              "      <th>10997</th>\n",
              "      <td>hormati partai-partai yang telah berkoalisi</td>\n",
              "      <td>neutral</td>\n",
              "    </tr>\n",
              "    <tr>\n",
              "      <th>10998</th>\n",
              "      <td>pagi pagi di tol pasteur sudah macet parah , b...</td>\n",
              "      <td>negative</td>\n",
              "    </tr>\n",
              "    <tr>\n",
              "      <th>10999</th>\n",
              "      <td>meskipun sering belanja ke yogya di riau junct...</td>\n",
              "      <td>positive</td>\n",
              "    </tr>\n",
              "  </tbody>\n",
              "</table>\n",
              "<p>11000 rows × 2 columns</p>\n",
              "</div>"
            ],
            "text/plain": [
              "                                                    text sentiment\n",
              "0      warung ini dimiliki oleh pengusaha pabrik tahu...  positive\n",
              "1      mohon ulama lurus dan k212 mmbri hujjah partai...   neutral\n",
              "2      lokasi strategis di jalan sumatera bandung . t...  positive\n",
              "3      betapa bahagia nya diri ini saat unboxing pake...  positive\n",
              "4      duh . jadi mahasiswa jangan sombong dong . kas...  negative\n",
              "...                                                  ...       ...\n",
              "10995                                       tidak kecewa  positive\n",
              "10996  enak rasa masakan nya apalagi kepiting yang me...  positive\n",
              "10997        hormati partai-partai yang telah berkoalisi   neutral\n",
              "10998  pagi pagi di tol pasteur sudah macet parah , b...  negative\n",
              "10999  meskipun sering belanja ke yogya di riau junct...  positive\n",
              "\n",
              "[11000 rows x 2 columns]"
            ]
          },
          "metadata": {
            "tags": []
          },
          "execution_count": 4
        }
      ]
    },
    {
      "cell_type": "code",
      "metadata": {
        "colab": {
          "base_uri": "https://localhost:8080/",
          "height": 391
        },
        "id": "IcFFqnI5PhFu",
        "outputId": "ed6c2781-d40b-4a1e-99fb-ca001966e020"
      },
      "source": [
        "df_valid = pd.read_csv('https://raw.githubusercontent.com/indobenchmark/indonlu/master/dataset/smsa_doc-sentiment-prosa/valid_preprocess.tsv', sep='\\t', names=['text', 'sentiment'])\r\n",
        "df_valid"
      ],
      "execution_count": 5,
      "outputs": [
        {
          "output_type": "execute_result",
          "data": {
            "text/html": [
              "<div>\n",
              "<style scoped>\n",
              "    .dataframe tbody tr th:only-of-type {\n",
              "        vertical-align: middle;\n",
              "    }\n",
              "\n",
              "    .dataframe tbody tr th {\n",
              "        vertical-align: top;\n",
              "    }\n",
              "\n",
              "    .dataframe thead th {\n",
              "        text-align: right;\n",
              "    }\n",
              "</style>\n",
              "<table border=\"1\" class=\"dataframe\">\n",
              "  <thead>\n",
              "    <tr style=\"text-align: right;\">\n",
              "      <th></th>\n",
              "      <th>text</th>\n",
              "      <th>sentiment</th>\n",
              "    </tr>\n",
              "  </thead>\n",
              "  <tbody>\n",
              "    <tr>\n",
              "      <th>0</th>\n",
              "      <td>meski masa kampanye sudah selesai , bukan bera...</td>\n",
              "      <td>neutral</td>\n",
              "    </tr>\n",
              "    <tr>\n",
              "      <th>1</th>\n",
              "      <td>tidak enak</td>\n",
              "      <td>negative</td>\n",
              "    </tr>\n",
              "    <tr>\n",
              "      <th>2</th>\n",
              "      <td>restoran ini menawarkan makanan sunda . kami m...</td>\n",
              "      <td>positive</td>\n",
              "    </tr>\n",
              "    <tr>\n",
              "      <th>3</th>\n",
              "      <td>lokasi di alun alun masakan padang ini cukup t...</td>\n",
              "      <td>positive</td>\n",
              "    </tr>\n",
              "    <tr>\n",
              "      <th>4</th>\n",
              "      <td>betapa bejad kader gerindra yang anggota dprd ...</td>\n",
              "      <td>negative</td>\n",
              "    </tr>\n",
              "    <tr>\n",
              "      <th>...</th>\n",
              "      <td>...</td>\n",
              "      <td>...</td>\n",
              "    </tr>\n",
              "    <tr>\n",
              "      <th>1255</th>\n",
              "      <td>film tncfu , tidak cocok untuk penonton yang t...</td>\n",
              "      <td>negative</td>\n",
              "    </tr>\n",
              "    <tr>\n",
              "      <th>1256</th>\n",
              "      <td>indihome ini mahal loh bayar nya . hanya , pen...</td>\n",
              "      <td>negative</td>\n",
              "    </tr>\n",
              "    <tr>\n",
              "      <th>1257</th>\n",
              "      <td>be de gea , cowok cupu yang takut dengan pacar...</td>\n",
              "      <td>negative</td>\n",
              "    </tr>\n",
              "    <tr>\n",
              "      <th>1258</th>\n",
              "      <td>valen yang sangat tidak berkualitas . konentat...</td>\n",
              "      <td>negative</td>\n",
              "    </tr>\n",
              "    <tr>\n",
              "      <th>1259</th>\n",
              "      <td>restoran ini menjadi tempat pilihan saya berbu...</td>\n",
              "      <td>positive</td>\n",
              "    </tr>\n",
              "  </tbody>\n",
              "</table>\n",
              "<p>1260 rows × 2 columns</p>\n",
              "</div>"
            ],
            "text/plain": [
              "                                                   text sentiment\n",
              "0     meski masa kampanye sudah selesai , bukan bera...   neutral\n",
              "1                                            tidak enak  negative\n",
              "2     restoran ini menawarkan makanan sunda . kami m...  positive\n",
              "3     lokasi di alun alun masakan padang ini cukup t...  positive\n",
              "4     betapa bejad kader gerindra yang anggota dprd ...  negative\n",
              "...                                                 ...       ...\n",
              "1255  film tncfu , tidak cocok untuk penonton yang t...  negative\n",
              "1256  indihome ini mahal loh bayar nya . hanya , pen...  negative\n",
              "1257  be de gea , cowok cupu yang takut dengan pacar...  negative\n",
              "1258  valen yang sangat tidak berkualitas . konentat...  negative\n",
              "1259  restoran ini menjadi tempat pilihan saya berbu...  positive\n",
              "\n",
              "[1260 rows x 2 columns]"
            ]
          },
          "metadata": {
            "tags": []
          },
          "execution_count": 5
        }
      ]
    },
    {
      "cell_type": "markdown",
      "metadata": {
        "id": "bJKr8inWRoDl"
      },
      "source": [
        "# Explanation\r\n",
        "Explain how I do cleansing"
      ]
    },
    {
      "cell_type": "markdown",
      "metadata": {
        "id": "5vP7oaUuE0-L"
      },
      "source": [
        "## Normalizing\r\n",
        "In Normalization we do\r\n",
        "1. Remove punctuation\r\n",
        "2. Case Folding\r\n",
        "3. Handling typo. Source : Peter Norvig in https://norvig.com/spell-correct.html <br>\r\n",
        "In order to make sure token is typo I need to compare token with kbbi or stem token with kbbi"
      ]
    },
    {
      "cell_type": "code",
      "metadata": {
        "id": "xaFILU_gEe3z"
      },
      "source": [
        "kbbi = pd.read_csv('https://raw.githubusercontent.com/Hidayathamir/kata-kbbi-github/main/kbbi.csv')\r\n",
        "WORDS = Counter(kbbi['kata'].to_list())\r\n",
        "\r\n",
        "def P(word, N=sum(WORDS.values())): \r\n",
        "    \"Probability of `word`.\"\r\n",
        "    return WORDS[word] / N\r\n",
        "\r\n",
        "def correction(word): \r\n",
        "    \"Most probable spelling correction for word.\"\r\n",
        "    return max(candidates(word), key=P)\r\n",
        "\r\n",
        "def candidates(word): \r\n",
        "    \"Generate possible spelling corrections for word.\"\r\n",
        "    return (known([word]) or known(edits1(word)) or known(edits2(word)) or [word])\r\n",
        "\r\n",
        "def known(words): \r\n",
        "    \"The subset of `words` that appear in the dictionary of WORDS.\"\r\n",
        "    return set(w for w in words if w in WORDS)\r\n",
        "\r\n",
        "def edits1(word):\r\n",
        "    \"All edits that are one edit away from `word`.\"\r\n",
        "    letters    = 'abcdefghijklmnopqrstuvwxyz'\r\n",
        "    splits     = [(word[:i], word[i:])    for i in range(len(word) + 1)]\r\n",
        "    deletes    = [L + R[1:]               for L, R in splits if R]\r\n",
        "    transposes = [L + R[1] + R[0] + R[2:] for L, R in splits if len(R)>1]\r\n",
        "    replaces   = [L + c + R[1:]           for L, R in splits if R for c in letters]\r\n",
        "    inserts    = [L + c + R               for L, R in splits for c in letters]\r\n",
        "    return set(deletes + transposes + replaces + inserts)\r\n",
        "\r\n",
        "def edits2(word): \r\n",
        "    \"All edits that are two edits away from `word`.\"\r\n",
        "    return (e2 for e1 in edits1(word) for e2 in edits1(e1))"
      ],
      "execution_count": 6,
      "outputs": []
    },
    {
      "cell_type": "code",
      "metadata": {
        "colab": {
          "base_uri": "https://localhost:8080/",
          "height": 35
        },
        "id": "zZV8nL6Ngb1x",
        "outputId": "60e4ba39-2eb7-4544-c065-e50be136c7be"
      },
      "source": [
        "typo = 'marag'\r\n",
        "correction(typo)"
      ],
      "execution_count": 7,
      "outputs": [
        {
          "output_type": "execute_result",
          "data": {
            "application/vnd.google.colaboratory.intrinsic+json": {
              "type": "string"
            },
            "text/plain": [
              "'maras'"
            ]
          },
          "metadata": {
            "tags": []
          },
          "execution_count": 7
        }
      ]
    },
    {
      "cell_type": "code",
      "metadata": {
        "colab": {
          "base_uri": "https://localhost:8080/",
          "height": 35
        },
        "id": "bzuTrRPSgGmi",
        "outputId": "f84e5ed3-e3ed-47d4-ba7c-b5e968580213"
      },
      "source": [
        "nama = 'syarifah'\r\n",
        "correction(nama)"
      ],
      "execution_count": 8,
      "outputs": [
        {
          "output_type": "execute_result",
          "data": {
            "application/vnd.google.colaboratory.intrinsic+json": {
              "type": "string"
            },
            "text/plain": [
              "'syarifah'"
            ]
          },
          "metadata": {
            "tags": []
          },
          "execution_count": 8
        }
      ]
    },
    {
      "cell_type": "code",
      "metadata": {
        "colab": {
          "base_uri": "https://localhost:8080/",
          "height": 35
        },
        "id": "n8dbPz0jLbbk",
        "outputId": "efbd6b97-a7d9-4244-d953-13671973c8f5"
      },
      "source": [
        "text = 'hteks ini banyyak kesalahn penulsan'\r\n",
        "text"
      ],
      "execution_count": 9,
      "outputs": [
        {
          "output_type": "execute_result",
          "data": {
            "application/vnd.google.colaboratory.intrinsic+json": {
              "type": "string"
            },
            "text/plain": [
              "'hteks ini banyyak kesalahn penulsan'"
            ]
          },
          "metadata": {
            "tags": []
          },
          "execution_count": 9
        }
      ]
    },
    {
      "cell_type": "code",
      "metadata": {
        "colab": {
          "base_uri": "https://localhost:8080/",
          "height": 35
        },
        "id": "creyhoH1VkCJ",
        "outputId": "820ea6eb-e0a8-432c-accb-29677dbe1b4e"
      },
      "source": [
        "stemmer = StemmerFactory().create_stemmer()\r\n",
        "def normalizing(text):\r\n",
        "  a = []\r\n",
        "  for token in text.lower().split():\r\n",
        "    if token not in string.punctuation:  # Make sure token is not punctuation\r\n",
        "      if token in WORDS:\r\n",
        "        a.append(token)\r\n",
        "      else:\r\n",
        "        if stemmer.stem(token) in WORDS:  # Some token need to stem first, kbbi problem\r\n",
        "           a.append(token)\r\n",
        "        else:        \r\n",
        "          a.append(correction(token))  # Handling typo base on WORDS\r\n",
        "  return ' '.join(a)\r\n",
        "\r\n",
        "text = normalizing(text)\r\n",
        "text"
      ],
      "execution_count": 10,
      "outputs": [
        {
          "output_type": "execute_result",
          "data": {
            "application/vnd.google.colaboratory.intrinsic+json": {
              "type": "string"
            },
            "text/plain": [
              "'teks ini banyak kesalahan penulisan'"
            ]
          },
          "metadata": {
            "tags": []
          },
          "execution_count": 10
        }
      ]
    },
    {
      "cell_type": "code",
      "metadata": {
        "id": "AI8orIpnZehn"
      },
      "source": [
        "# token = 'terpilihnya'\r\n",
        "# print(token, token in WORDS)  # e.g all word in kbbi\r\n",
        "# print(stemmer.stem(token), stemmer.stem(token) in WORDS)  # e.g 'terpilihnya'\r\n",
        "# print(correction(token), correction(token) in WORDS)  # e.g 'ketiks'"
      ],
      "execution_count": 11,
      "outputs": []
    },
    {
      "cell_type": "markdown",
      "metadata": {
        "id": "db8h8tKcQN4M"
      },
      "source": [
        "## Stopword Removal\r\n",
        "How Sastrawi removal work"
      ]
    },
    {
      "cell_type": "code",
      "metadata": {
        "id": "2q3MboNZQzR4"
      },
      "source": [
        "stopword = StopWordRemoverFactory().create_stop_word_remover()"
      ],
      "execution_count": 12,
      "outputs": []
    },
    {
      "cell_type": "code",
      "metadata": {
        "colab": {
          "base_uri": "https://localhost:8080/",
          "height": 35
        },
        "id": "S0vQaF_yJW9w",
        "outputId": "e85ba595-357b-408f-8450-53713ab66b1f"
      },
      "source": [
        "text"
      ],
      "execution_count": 13,
      "outputs": [
        {
          "output_type": "execute_result",
          "data": {
            "application/vnd.google.colaboratory.intrinsic+json": {
              "type": "string"
            },
            "text/plain": [
              "'teks ini banyak kesalahan penulisan'"
            ]
          },
          "metadata": {
            "tags": []
          },
          "execution_count": 13
        }
      ]
    },
    {
      "cell_type": "code",
      "metadata": {
        "colab": {
          "base_uri": "https://localhost:8080/",
          "height": 35
        },
        "id": "QNRavRJuJW7w",
        "outputId": "f58be9f5-60aa-4715-c53e-a7d9912d9ffb"
      },
      "source": [
        "text = stopword.remove(text)\r\n",
        "text"
      ],
      "execution_count": 14,
      "outputs": [
        {
          "output_type": "execute_result",
          "data": {
            "application/vnd.google.colaboratory.intrinsic+json": {
              "type": "string"
            },
            "text/plain": [
              "'teks banyak kesalahan penulisan'"
            ]
          },
          "metadata": {
            "tags": []
          },
          "execution_count": 14
        }
      ]
    },
    {
      "cell_type": "markdown",
      "metadata": {
        "id": "Mwq6juScQ1mt"
      },
      "source": [
        "## Stemming"
      ]
    },
    {
      "cell_type": "markdown",
      "metadata": {
        "id": "R9G1Mz5_P0bt"
      },
      "source": [
        "How Sastrawi stemmer work"
      ]
    },
    {
      "cell_type": "code",
      "metadata": {
        "id": "UFlEJydNGy8e"
      },
      "source": [
        "stemmer = StemmerFactory().create_stemmer()"
      ],
      "execution_count": 15,
      "outputs": []
    },
    {
      "cell_type": "code",
      "metadata": {
        "colab": {
          "base_uri": "https://localhost:8080/",
          "height": 35
        },
        "id": "oc8H_C-1A1MS",
        "outputId": "a3014ab7-533e-418f-c84d-845d092249a0"
      },
      "source": [
        "text"
      ],
      "execution_count": 16,
      "outputs": [
        {
          "output_type": "execute_result",
          "data": {
            "application/vnd.google.colaboratory.intrinsic+json": {
              "type": "string"
            },
            "text/plain": [
              "'teks banyak kesalahan penulisan'"
            ]
          },
          "metadata": {
            "tags": []
          },
          "execution_count": 16
        }
      ]
    },
    {
      "cell_type": "code",
      "metadata": {
        "colab": {
          "base_uri": "https://localhost:8080/",
          "height": 35
        },
        "id": "Tldc7K8mHBx9",
        "outputId": "b5ef8768-2b69-4d8b-b0f6-451247bbc248"
      },
      "source": [
        "text = stemmer.stem(text)\r\n",
        "text"
      ],
      "execution_count": 17,
      "outputs": [
        {
          "output_type": "execute_result",
          "data": {
            "application/vnd.google.colaboratory.intrinsic+json": {
              "type": "string"
            },
            "text/plain": [
              "'teks banyak salah tulis'"
            ]
          },
          "metadata": {
            "tags": []
          },
          "execution_count": 17
        }
      ]
    },
    {
      "cell_type": "markdown",
      "metadata": {
        "id": "B7_z_s5yRIon"
      },
      "source": [
        "# Apply Cleansing"
      ]
    },
    {
      "cell_type": "markdown",
      "metadata": {
        "id": "LRyykV36P5Wr"
      },
      "source": [
        "Apply cleaning to dataframe"
      ]
    },
    {
      "cell_type": "code",
      "metadata": {
        "id": "4GASWmFMTMaV"
      },
      "source": [
        "def clean(text):\r\n",
        "  # Normlizing\r\n",
        "  text = normalizing(text)\r\n",
        "  # Stopword Removal\r\n",
        "  text = stopword.remove(text)\r\n",
        "  # Stemming\r\n",
        "  text = stemmer.stem(text)\r\n",
        "  return text"
      ],
      "execution_count": 18,
      "outputs": []
    },
    {
      "cell_type": "code",
      "metadata": {
        "colab": {
          "base_uri": "https://localhost:8080/",
          "height": 35
        },
        "id": "OJwIKhw4eJgr",
        "outputId": "c6c04c03-6de7-465d-d1a8-d5269eea7aea"
      },
      "source": [
        "text = 'hteks ini banyyak kesalahn penulsan'\r\n",
        "text"
      ],
      "execution_count": 19,
      "outputs": [
        {
          "output_type": "execute_result",
          "data": {
            "application/vnd.google.colaboratory.intrinsic+json": {
              "type": "string"
            },
            "text/plain": [
              "'hteks ini banyyak kesalahn penulsan'"
            ]
          },
          "metadata": {
            "tags": []
          },
          "execution_count": 19
        }
      ]
    },
    {
      "cell_type": "code",
      "metadata": {
        "colab": {
          "base_uri": "https://localhost:8080/",
          "height": 35
        },
        "id": "L5MiLad-ePEC",
        "outputId": "ef7ccebc-50e4-4034-f316-11aa8dfcb064"
      },
      "source": [
        "text = clean(text)\r\n",
        "text"
      ],
      "execution_count": 20,
      "outputs": [
        {
          "output_type": "execute_result",
          "data": {
            "application/vnd.google.colaboratory.intrinsic+json": {
              "type": "string"
            },
            "text/plain": [
              "'teks banyak salah tulis'"
            ]
          },
          "metadata": {
            "tags": []
          },
          "execution_count": 20
        }
      ]
    },
    {
      "cell_type": "code",
      "metadata": {
        "id": "A2ZQ7YjHHvLn"
      },
      "source": [
        "tqdm.pandas()"
      ],
      "execution_count": 21,
      "outputs": []
    },
    {
      "cell_type": "code",
      "metadata": {
        "colab": {
          "base_uri": "https://localhost:8080/"
        },
        "id": "lUYJzR7YIAkr",
        "outputId": "f99f6aec-41f0-419f-fe7e-86a364e2c55d"
      },
      "source": [
        "df_train['text'] = df_train['text'].progress_apply(clean)"
      ],
      "execution_count": 22,
      "outputs": [
        {
          "output_type": "stream",
          "text": [
            "100%|██████████| 11000/11000 [40:19<00:00,  4.55it/s]\n"
          ],
          "name": "stderr"
        }
      ]
    },
    {
      "cell_type": "code",
      "metadata": {
        "colab": {
          "base_uri": "https://localhost:8080/"
        },
        "id": "gB8vpDP1QD-P",
        "outputId": "d4d4897f-890d-4a45-8ea5-39949a3316f7"
      },
      "source": [
        "df_valid['text'] = df_valid['text'].progress_apply(clean)"
      ],
      "execution_count": 23,
      "outputs": [
        {
          "output_type": "stream",
          "text": [
            "100%|██████████| 1260/1260 [03:42<00:00,  5.67it/s]\n"
          ],
          "name": "stderr"
        }
      ]
    },
    {
      "cell_type": "markdown",
      "metadata": {
        "id": "Nvx6QFYeQMvN"
      },
      "source": [
        "Export dataframe to csv"
      ]
    },
    {
      "cell_type": "code",
      "metadata": {
        "id": "Fs0wTyJVQMMr"
      },
      "source": [
        "df_train.to_csv('train.csv', index=False)\r\n",
        "df_valid.to_csv('valid.csv', index=False)"
      ],
      "execution_count": 24,
      "outputs": []
    }
  ]
}